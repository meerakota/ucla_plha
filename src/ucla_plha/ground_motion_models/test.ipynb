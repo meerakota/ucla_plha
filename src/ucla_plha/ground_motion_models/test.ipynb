{
 "cells": [
  {
   "cell_type": "code",
   "execution_count": null,
   "id": "8b0680f0",
   "metadata": {},
   "outputs": [
    {
     "name": "stdout",
     "output_type": "stream",
     "text": [
      "CY14\n",
      "0.1348192770199361 0.6027003191752309\n",
      "0.12849914788181835 0.553637136122523\n",
      "\n",
      "BSSA14\n",
      "0.12102407912922708 0.6050859443087403\n",
      "0.15476216619619382 0.6050859443087403\n",
      "\n",
      "ASK14\n",
      "0.17974906427297466 0.8442471498323226\n",
      "0.15808301824830112 0.6267002872186991\n",
      "\n",
      "CB14\n",
      "0.19892481012606972 0.5359953103889367\n",
      "0.15948427047699035 0.5824401956259101\n"
     ]
    }
   ],
   "source": [
    "import cy14, ask14, bssa14, cb14\n",
    "import numpy as np\n",
    "import pygmm\n",
    "\n",
    "vs30 = np.asarray([760.0], dtype=float)\n",
    "rjb = np.asarray([12.0], dtype=float)\n",
    "rrup = np.asarray([15.0])\n",
    "rx = np.asarray([-5.0])\n",
    "width = np.asarray([2.0])\n",
    "\n",
    "dip = np.asarray([30.0], dtype=float)\n",
    "rx1 = width * np.cos(np.radians(dip))\n",
    "ry0 = np.asarray([1.0], dtype=float)\n",
    "ztor = np.asarray([2.0], dtype=float)\n",
    "fault_type = np.asarray([2], dtype=int)\n",
    "m = np.asarray([6.7], dtype=float)\n",
    "measured_vs30 = True\n",
    "zbor = np.asarray([8.0], dtype=float)\n",
    "\n",
    "s = pygmm.model.Scenario(\n",
    "    mag = m[0], dist_jb = rjb[0], dist_x = rx[0], dist_rup = rrup[0], dip = dip[0], v_s30 = vs30, mechanism = \"NS\", width = width[0], dist_y0 = ry0[0], depth_bor = zbor[0]\n",
    ")\n",
    "\n",
    "print('CY14')\n",
    "output = pygmm.ChiouYoungs2014(s)\n",
    "mu_ln, sigma_ln = cy14.get_im(vs30,rjb,rrup,rx,m,fault_type,measured_vs30,dip,ztor)\n",
    "print(np.exp(mu_ln[0]), sigma_ln[0])\n",
    "print(output.pga, output.ln_std_pga)\n",
    "\n",
    "print('\\nBSSA14')\n",
    "output = pygmm.BooreStewartSeyhanAtkinson2014(s)\n",
    "mu_ln, sigma_ln = bssa14.get_im(vs30,rjb,m,fault_type)\n",
    "print(np.exp(mu_ln[0]), sigma_ln[0])\n",
    "print(output.pga, output.ln_std_pga)\n",
    "\n",
    "print('\\nASK14')\n",
    "output = pygmm.AbrahamsonSilvaKamai2014(s)\n",
    "mu_ln, sigma_ln = ask14.get_im(vs30,rrup,rx,rx1,ry0,m,fault_type,measured_vs30,dip,ztor)\n",
    "print(np.exp(mu_ln[0]), sigma_ln[0])\n",
    "print(output.pga, output.ln_std_pga)\n",
    "\n",
    "print('\\nCB14')\n",
    "output = pygmm.CampbellBozorgnia2014(s)\n",
    "mu_ln, sigma_ln = cb14.get_im(vs30,rjb,rrup,rx,rx1,m,fault_type,ztor,zbor,dip)\n",
    "print(np.exp(mu_ln[0]), sigma_ln[0])\n",
    "print(output.pga, output.ln_std_pga)"
   ]
  },
  {
   "cell_type": "code",
   "execution_count": null,
   "id": "7c1afc23",
   "metadata": {},
   "outputs": [
    {
     "ename": "",
     "evalue": "",
     "output_type": "error",
     "traceback": [
      "\u001b[1;31mnotebook controller is DISPOSED. \n",
      "\u001b[1;31mView Jupyter <a href='command:jupyter.viewOutput'>log</a> for further details."
     ]
    },
    {
     "ename": "",
     "evalue": "",
     "output_type": "error",
     "traceback": [
      "\u001b[1;31mnotebook controller is DISPOSED. \n",
      "\u001b[1;31mView Jupyter <a href='command:jupyter.viewOutput'>log</a> for further details."
     ]
    },
    {
     "ename": "",
     "evalue": "",
     "output_type": "error",
     "traceback": [
      "\u001b[1;31mnotebook controller is DISPOSED. \n",
      "\u001b[1;31mView Jupyter <a href='command:jupyter.viewOutput'>log</a> for further details."
     ]
    },
    {
     "ename": "",
     "evalue": "",
     "output_type": "error",
     "traceback": [
      "\u001b[1;31mnotebook controller is DISPOSED. \n",
      "\u001b[1;31mView Jupyter <a href='command:jupyter.viewOutput'>log</a> for further details."
     ]
    },
    {
     "ename": "",
     "evalue": "",
     "output_type": "error",
     "traceback": [
      "\u001b[1;31mnotebook controller is DISPOSED. \n",
      "\u001b[1;31mView Jupyter <a href='command:jupyter.viewOutput'>log</a> for further details."
     ]
    }
   ],
   "source": [
    "import os \n",
    "def load_data_file(name, skip_header: int = 0) -> np.recarray:\n",
    "    \"\"\"Load a data file.\n",
    "\n",
    "    Returns\n",
    "    -------\n",
    "    data : :class:`numpy.recarray`\n",
    "       data values\n",
    "\n",
    "    \"\"\"\n",
    "    \n",
    "    return np.genfromtxt(\n",
    "        name, skip_header=skip_header, delimiter=\",\", names=True, case_sensitive=True\n",
    "    ).view(np.recarray)"
   ]
  },
  {
   "cell_type": "code",
   "execution_count": null,
   "id": "d8f25b02",
   "metadata": {},
   "outputs": [
    {
     "ename": "",
     "evalue": "",
     "output_type": "error",
     "traceback": [
      "\u001b[1;31mnotebook controller is DISPOSED. \n",
      "\u001b[1;31mView Jupyter <a href='command:jupyter.viewOutput'>log</a> for further details."
     ]
    },
    {
     "ename": "",
     "evalue": "",
     "output_type": "error",
     "traceback": [
      "\u001b[1;31mnotebook controller is DISPOSED. \n",
      "\u001b[1;31mView Jupyter <a href='command:jupyter.viewOutput'>log</a> for further details."
     ]
    },
    {
     "ename": "",
     "evalue": "",
     "output_type": "error",
     "traceback": [
      "\u001b[1;31mnotebook controller is DISPOSED. \n",
      "\u001b[1;31mView Jupyter <a href='command:jupyter.viewOutput'>log</a> for further details."
     ]
    },
    {
     "ename": "",
     "evalue": "",
     "output_type": "error",
     "traceback": [
      "\u001b[1;31mnotebook controller is DISPOSED. \n",
      "\u001b[1;31mView Jupyter <a href='command:jupyter.viewOutput'>log</a> for further details."
     ]
    },
    {
     "ename": "",
     "evalue": "",
     "output_type": "error",
     "traceback": [
      "\u001b[1;31mnotebook controller is DISPOSED. \n",
      "\u001b[1;31mView Jupyter <a href='command:jupyter.viewOutput'>log</a> for further details."
     ]
    }
   ],
   "source": [
    "load_data_file(\"boore_stewart_seyhan_atkinson-2014.csv\", 2)"
   ]
  }
 ],
 "metadata": {
  "kernelspec": {
   "display_name": "base",
   "language": "python",
   "name": "python3"
  },
  "language_info": {
   "codemirror_mode": {
    "name": "ipython",
    "version": 3
   },
   "file_extension": ".py",
   "mimetype": "text/x-python",
   "name": "python",
   "nbconvert_exporter": "python",
   "pygments_lexer": "ipython3",
   "version": "3.13.5"
  }
 },
 "nbformat": 4,
 "nbformat_minor": 5
}
