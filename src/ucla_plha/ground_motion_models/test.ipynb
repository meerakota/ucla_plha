{
 "cells": [
  {
   "cell_type": "code",
   "execution_count": null,
   "id": "8b0680f0",
   "metadata": {},
   "outputs": [],
   "source": [
    "import cy14, ask14, bssa14, cb14\n",
    "import numpy as np\n",
    "import pygmm\n",
    "\n",
    "\n",
    "vs30 = np.asarray([760.0], dtype=float)\n",
    "rjb = np.asarray([12.0], dtype=float)\n",
    "rrup = np.asarray([15.0])\n",
    "rx = np.asarray([-5.0])\n",
    "width = np.asarray([2.0])\n",
    "\n",
    "dip = np.asarray([30.0], dtype=float)\n",
    "rx1 = width * np.cos(np.radians(dip))\n",
    "ry0 = np.asarray([1.0], dtype=float)\n",
    "ztor = np.asarray([2.0], dtype=float)\n",
    "fault_type = np.asarray([2], dtype=int)\n",
    "m = np.asarray([6.5], dtype=float)\n",
    "measured_vs30 = True\n",
    "zbor = np.asarray([8.0], dtype=float)\n",
    "\n",
    "s = pygmm.model.Scenario(\n",
    "    mag = m[0], dist_jb = rjb[0], dist_x = rx[0], dist_rup = rrup[0], dip = dip[0], v_s30 = vs30, mechanism = \"NS\", width = width[0], dist_y0 = ry0[0], depth_bor = zbor[0], depth_tor = ztor[0]\n",
    ")\n",
    "\n",
    "print('CY14')\n",
    "output = pygmm.ChiouYoungs2014(s)\n",
    "mu_ln, sigma_ln = cy14.get_im(vs30,rjb,rrup,rx,m,fault_type,measured_vs30,dip,ztor)\n",
    "print(np.exp(mu_ln[0]), sigma_ln[0])\n",
    "print(output.pga, output.ln_std_pga)\n",
    "\n",
    "print('\\nBSSA14')\n",
    "output = pygmm.BooreStewartSeyhanAtkinson2014(s)\n",
    "mu_ln, sigma_ln = bssa14.get_im(vs30,rjb,m,fault_type)\n",
    "print(np.exp(mu_ln[0]), sigma_ln[0])\n",
    "print(output.pga, output.ln_std_pga)\n",
    "\n",
    "print('\\nASK14')\n",
    "output = pygmm.AbrahamsonSilvaKamai2014(s)\n",
    "mu_ln, sigma_ln = ask14.get_im(vs30,rrup,rx,rx1,ry0,m,fault_type,measured_vs30,dip,ztor)\n",
    "print(np.exp(mu_ln[0]), sigma_ln[0])\n",
    "print(output.pga, output.ln_std_pga)\n",
    "\n",
    "print('\\nCB14')\n",
    "output = pygmm.CampbellBozorgnia2014(s)\n",
    "mu_ln, sigma_ln = cb14.get_im(vs30,rjb,rrup,rx,rx1,m,fault_type,ztor,zbor,dip)\n",
    "print(np.exp(mu_ln[0]), sigma_ln[0])\n",
    "print(output.pga, output.ln_std_pga)\n",
    "\n",
    "# print('f1 = ', f1, 'f4 = ', f4, 'f6 = ', f6, 'f7 = ', f7, 'f8 = ', f8, 'f11 = ', f11, 'site term = ', f5 + f10, 'freg = ', regional)"
   ]
  },
  {
   "cell_type": "code",
   "execution_count": 8,
   "id": "a821c2d3-950c-42f3-b652-4e881eb95f70",
   "metadata": {},
   "outputs": [
    {
     "data": {
      "text/plain": [
       "1.5549999999999993"
      ]
     },
     "execution_count": 8,
     "metadata": {},
     "output_type": "execute_result"
    }
   ],
   "source": [
    "c0 = -4.416\n",
    "c1 = 0.984\n",
    "c2 = 0.537\n",
    "c3 = -1.499\n",
    "c4 = -0.496\n",
    "\n",
    "m = 6.5\n",
    "c0 + c1 * m + c2 * (m - 4.5) + c3 * (m - 5.5) + c4 * (m - 6.5)"
   ]
  }
 ],
 "metadata": {
  "kernelspec": {
   "display_name": "Python [conda env:base] *",
   "language": "python",
   "name": "conda-base-py"
  },
  "language_info": {
   "codemirror_mode": {
    "name": "ipython",
    "version": 3
   },
   "file_extension": ".py",
   "mimetype": "text/x-python",
   "name": "python",
   "nbconvert_exporter": "python",
   "pygments_lexer": "ipython3",
   "version": "3.13.5"
  }
 },
 "nbformat": 4,
 "nbformat_minor": 5
}
